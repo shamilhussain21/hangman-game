{
 "cells": [
  {
   "cell_type": "code",
   "execution_count": 1,
   "id": "bff97719-9f21-4ef5-ad82-72d70ce6047e",
   "metadata": {},
   "outputs": [
    {
     "name": "stdout",
     "output_type": "stream",
     "text": [
      "Let's Play Hangman!!!\n",
      "You have only 6 lives,So try to guess the word within 6 attempts!.Good Luck!!!!\n",
      "['_', '_', '_', '_', '_', '_', '_', '_']\n"
     ]
    },
    {
     "name": "stdin",
     "output_type": "stream",
     "text": [
      "Guess a letter:  a\n"
     ]
    },
    {
     "name": "stdout",
     "output_type": "stream",
     "text": [
      "\n",
      "    +---+\n",
      "    |   |\n",
      "    o   |\n",
      "        |\n",
      "        |\n",
      "        |\n",
      " ========= \n",
      "['_', '_', '_', '_', '_', '_', '_', '_']\n"
     ]
    },
    {
     "name": "stdin",
     "output_type": "stream",
     "text": [
      "Guess a letter:  i\n"
     ]
    },
    {
     "name": "stdout",
     "output_type": "stream",
     "text": [
      "\n",
      "    +---+\n",
      "    |   |\n",
      "    o   |\n",
      "    |   |\n",
      "        |\n",
      "        |\n",
      " ========= \n",
      "['_', '_', '_', '_', '_', '_', '_', '_']\n"
     ]
    },
    {
     "name": "stdin",
     "output_type": "stream",
     "text": [
      "Guess a letter:  e\n"
     ]
    },
    {
     "name": "stdout",
     "output_type": "stream",
     "text": [
      "\n",
      "    +---+\n",
      "    |   |\n",
      "    o   |\n",
      "    |   |\n",
      "        |\n",
      "        |\n",
      " ========= \n",
      "['_', 'e', '_', 'e', '_', '_', 'e', '_']\n"
     ]
    },
    {
     "name": "stdin",
     "output_type": "stream",
     "text": [
      "Guess a letter:  o\n"
     ]
    },
    {
     "name": "stdout",
     "output_type": "stream",
     "text": [
      "\n",
      "    +---+\n",
      "    |   |\n",
      "    o   |\n",
      "   /|   |\n",
      "        |\n",
      "        |\n",
      " ========= \n",
      "['_', 'e', '_', 'e', '_', '_', 'e', '_']\n"
     ]
    },
    {
     "name": "stdin",
     "output_type": "stream",
     "text": [
      "Guess a letter:  b\n"
     ]
    },
    {
     "name": "stdout",
     "output_type": "stream",
     "text": [
      "\n",
      "    +---+\n",
      "    |   |\n",
      "    o   |\n",
      "   /|   |\n",
      "        |\n",
      "        |\n",
      " ========= \n",
      "['_', 'e', '_', 'e', '_', 'b', 'e', '_']\n"
     ]
    },
    {
     "name": "stdin",
     "output_type": "stream",
     "text": [
      "Guess a letter:  f\n"
     ]
    },
    {
     "name": "stdout",
     "output_type": "stream",
     "text": [
      "\n",
      "    +---+\n",
      "    |   |\n",
      "    o   |\n",
      "   /|\\  |\n",
      "        |\n",
      "        |\n",
      " ========= \n",
      "['_', 'e', '_', 'e', '_', 'b', 'e', '_']\n"
     ]
    },
    {
     "name": "stdin",
     "output_type": "stream",
     "text": [
      "Guess a letter:  l\n"
     ]
    },
    {
     "name": "stdout",
     "output_type": "stream",
     "text": [
      "\n",
      "    +---+\n",
      "    |   |\n",
      "    o   |\n",
      "   /|\\  |\n",
      "   /    |\n",
      "        |\n",
      " ========= \n",
      "['_', 'e', '_', 'e', '_', 'b', 'e', '_']\n"
     ]
    },
    {
     "name": "stdin",
     "output_type": "stream",
     "text": [
      "Guess a letter:  t\n"
     ]
    },
    {
     "name": "stdout",
     "output_type": "stream",
     "text": [
      "\n",
      "    +---+\n",
      "    |   |\n",
      "    o   |\n",
      "   /|\\  |\n",
      "   / \\  |\n",
      "        |\n",
      " =========\n",
      "['_', 'e', '_', 'e', '_', 'b', 'e', '_']\n",
      "GAME OVER!!\n",
      "\n",
      "DECEMBER\n"
     ]
    }
   ],
   "source": [
    "import random\n",
    "h0=\"\"\"\n",
    "    +---+\n",
    "    |   |\n",
    "        |\n",
    "        |\n",
    "        |\n",
    "        |\n",
    " ========= \"\"\"\n",
    "h1=\"\"\"\n",
    "    +---+\n",
    "    |   |\n",
    "    o   |\n",
    "        |\n",
    "        |\n",
    "        |\n",
    " ========= \"\"\"\n",
    "h2=r\"\"\"\n",
    "    +---+\n",
    "    |   |\n",
    "    o   |\n",
    "    |   |\n",
    "        |\n",
    "        |\n",
    " ========= \"\"\"\n",
    "h3=r\"\"\"\n",
    "    +---+\n",
    "    |   |\n",
    "    o   |\n",
    "   /|   |\n",
    "        |\n",
    "        |\n",
    " ========= \"\"\"\n",
    "h4=r\"\"\"\n",
    "    +---+\n",
    "    |   |\n",
    "    o   |\n",
    "   /|\\  |\n",
    "        |\n",
    "        |\n",
    " ========= \"\"\"\n",
    "h5=r\"\"\"\n",
    "    +---+\n",
    "    |   |\n",
    "    o   |\n",
    "   /|\\  |\n",
    "   /    |\n",
    "        |\n",
    " ========= \"\"\"\n",
    "h6=r\"\"\"\n",
    "    +---+\n",
    "    |   |\n",
    "    o   |\n",
    "   /|\\  |\n",
    "   / \\  |\n",
    "        |\n",
    " =========\"\"\"\n",
    "hangman=[h0,h1,h2,h3,h4,h5,h6]\n",
    "list_words=[\"puzzle\",\"apple\",\"yellow\",\"blue\",\"red\",\"white\",\"moon\",\n",
    "            \"orange\",\"animal\",\"lion\",\"tiger\",\"mango\",\"kitty\",\"hangman\",\"bear\",\n",
    "            \"hippo\",\"jumanji\",\"football\",\"baseball\",\"volleyball\",\"tennis\",\"green\",\"basketball\",\"sleep\",\"camera\",\n",
    "            \"kangaroo\",\"happy\",\"scissors\",\"penguin\",\"skateboard\",\"earthquake\",\"summer\",\"winter\",\"december\",\"april\",\"may\",\"july\"]\n",
    "computer=random.choice(list_words)     #HERE COMPUTER CHOOSES RANDOM WORD FROM THE LIST\n",
    "length=len(computer)\n",
    "game=[]                                #EMPTY LIST FOR CHECK USER WORD OR LETTER WITH COMPUTER'S\n",
    "life=6                                 #LIFE FOR THE PLAYER\n",
    "\n",
    "for i in range(length):                 #HERE WE CAN ANOTHER OPTION:- game='_'*length\n",
    "      game+=\"_\"\n",
    "\n",
    "print(f\"Let's Play Hangman!!!\\nYou have only 6 lives,So try to guess the word within 6 attempts!.Good Luck!!!!\\n{game}\")\n",
    "\n",
    "while life > 0 and \"_\" in game:\n",
    "    user = input(\"Guess a letter: \")\n",
    "    flag=1\n",
    "    last=1\n",
    "    if user in computer:\n",
    "        for i in range(length):\n",
    "            if user==computer[i]:\n",
    "                game[i]=user\n",
    "                flag=0\n",
    "                last=0\n",
    "    else:\n",
    "        if flag==1:\n",
    "            print(hangman[7 - life])\n",
    "            life-=1\n",
    "\n",
    "    if last==0:\n",
    "        print(hangman[6-life])\n",
    "    print(game)\n",
    "\n",
    "if life == 0:\n",
    "    print(\"GAME OVER!!\")\n",
    "    lose=computer.upper()\n",
    "    print(f\"\\n{lose}\")\n",
    "elif user:\n",
    "    print(\"CONGRATS!!,YOU WON\")\n",
    "    won=computer.upper()\n",
    "    print(f\"\\n{won}\")\n"
   ]
  },
  {
   "cell_type": "code",
   "execution_count": null,
   "id": "9cbe354c-c700-4597-b96d-f3f86dd44cd4",
   "metadata": {},
   "outputs": [],
   "source": []
  }
 ],
 "metadata": {
  "kernelspec": {
   "display_name": "Python 3 (ipykernel)",
   "language": "python",
   "name": "python3"
  },
  "language_info": {
   "codemirror_mode": {
    "name": "ipython",
    "version": 3
   },
   "file_extension": ".py",
   "mimetype": "text/x-python",
   "name": "python",
   "nbconvert_exporter": "python",
   "pygments_lexer": "ipython3",
   "version": "3.12.4"
  }
 },
 "nbformat": 4,
 "nbformat_minor": 5
}
